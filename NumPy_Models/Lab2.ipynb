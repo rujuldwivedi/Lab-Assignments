{
  "nbformat": 4,
  "nbformat_minor": 0,
  "metadata": {
    "colab": {
      "provenance": [],
      "authorship_tag": "ABX9TyNOaKbB14DTHAzTuJ1zD6ge",
      "include_colab_link": true
    },
    "kernelspec": {
      "name": "python3",
      "display_name": "Python 3"
    },
    "language_info": {
      "name": "python"
    }
  },
  "cells": [
    {
      "cell_type": "markdown",
      "metadata": {
        "id": "view-in-github",
        "colab_type": "text"
      },
      "source": [
        "<a href=\"https://colab.research.google.com/github/rujuldwivedi/Projects/blob/main/NumPy_Models/Lab2.ipynb\" target=\"_parent\"><img src=\"https://colab.research.google.com/assets/colab-badge.svg\" alt=\"Open In Colab\"/></a>"
      ]
    },
    {
      "cell_type": "code",
      "source": [
        "import numpy as np\n",
        "import matplotlib.pyplot as plt"
      ],
      "metadata": {
        "id": "_H-AEOhEaDdL"
      },
      "execution_count": 1,
      "outputs": []
    },
    {
      "cell_type": "code",
      "source": [
        "def func(x, a, b, N):\n",
        "    Y = a * x + b + N\n",
        "    return Y"
      ],
      "metadata": {
        "id": "AP_zaWp4aKPY"
      },
      "execution_count": 2,
      "outputs": []
    },
    {
      "cell_type": "code",
      "source": [
        "def Inputs(a, b, n):\n",
        "    arrX = np.empty(n)\n",
        "    arrY = np.empty(n)\n",
        "    np.random.seed(42)\n",
        "    for i in range(n):\n",
        "        X = np.random.uniform(0, 10)\n",
        "        N = np.random.normal(0, 1)\n",
        "        arrX[i] = X\n",
        "        arrY[i] = func(X, a, b, N)\n",
        "    arr = np.array([arrX, arrY])\n",
        "    return arr"
      ],
      "metadata": {
        "id": "BMG9sfMFaN-o"
      },
      "execution_count": 3,
      "outputs": []
    },
    {
      "cell_type": "code",
      "source": [
        "def y_hat(w, b, x, n):\n",
        "    y = np.empty(n)\n",
        "    for i in range(len(x)):\n",
        "        y[i] = w * x[i] + b\n",
        "    return y"
      ],
      "metadata": {
        "id": "_2ThsS3WaSOt"
      },
      "execution_count": 4,
      "outputs": []
    },
    {
      "cell_type": "code",
      "source": [
        "def Loss(y, y_hat):\n",
        "    q = y_hat - y\n",
        "    L = np.sum(q**2) / (2 * len(y))\n",
        "    return L"
      ],
      "metadata": {
        "id": "MDhBIDZ5aR0N"
      },
      "execution_count": 5,
      "outputs": []
    },
    {
      "cell_type": "code",
      "source": [
        "def gradientDescent(x, y, eta, epochs):\n",
        "    w = 0\n",
        "    b = 0\n",
        "    n = len(y)\n",
        "    for i in range(epochs):\n",
        "        y_pred = y_hat(w, b, x, n)\n",
        "        q = 2 * (y_pred - y)\n",
        "        L = Loss(y, y_pred)\n",
        "        w = w - eta * np.dot(x, q) / n\n",
        "        b = b - eta * np.sum(q) / n\n",
        "        if i % 100 == 0:\n",
        "            print(f\"Epoch {i}, Loss: {L}\")\n",
        "    return [w, b]"
      ],
      "metadata": {
        "id": "RI4HNIKmaRps"
      },
      "execution_count": 6,
      "outputs": []
    },
    {
      "cell_type": "code",
      "source": [
        "def plot_regression_line(x, y, w, b):\n",
        "    plt.scatter(x, y, color='blue', marker='o', label='Data points')\n",
        "    plt.plot(x, y_hat(w,b,x,1000), color='red', label='Regression line')\n",
        "    plt.xlabel('X')\n",
        "    plt.ylabel('y')\n",
        "    plt.legend()\n",
        "    plt.show()"
      ],
      "metadata": {
        "id": "d0_zK5NVaRHz"
      },
      "execution_count": 7,
      "outputs": []
    },
    {
      "cell_type": "code",
      "source": [
        "S = Inputs(3, 4, 1000)\n",
        "weights = gradientDescent(S[0], S[1], 0.001, 10000)\n",
        "print(weights)\n",
        "plot_regression_line(S[0], S[1], weights[0], weights[1])"
      ],
      "metadata": {
        "colab": {
          "base_uri": "https://localhost:8080/",
          "height": 1000
        },
        "id": "uQUwSBiXaQoJ",
        "outputId": "a2a4a4b7-103d-4e17-cec0-a6c0fd76192a"
      },
      "execution_count": 8,
      "outputs": [
        {
          "output_type": "stream",
          "name": "stdout",
          "text": [
            "Epoch 0, Loss: 220.10705346516374\n",
            "Epoch 100, Loss: 1.8404124656162022\n",
            "Epoch 200, Loss: 1.716186469668163\n",
            "Epoch 300, Loss: 1.6035908423292613\n",
            "Epoch 400, Loss: 1.5014164521574087\n",
            "Epoch 500, Loss: 1.4086987661974044\n",
            "Epoch 600, Loss: 1.3245625234919753\n",
            "Epoch 700, Loss: 1.2482134724636709\n",
            "Epoch 800, Loss: 1.1789308731285508\n",
            "Epoch 900, Loss: 1.1160606932640849\n",
            "Epoch 1000, Loss: 1.0590094343026353\n",
            "Epoch 1100, Loss: 1.0072385286665593\n",
            "Epoch 1200, Loss: 0.9602592556554146\n",
            "Epoch 1300, Loss: 0.9176281278909093\n",
            "Epoch 1400, Loss: 0.8789427047673452\n",
            "Epoch 1500, Loss: 0.8438377933862484\n",
            "Epoch 1600, Loss: 0.8119820011117669\n",
            "Epoch 1700, Loss: 0.7830746072027382\n",
            "Epoch 1800, Loss: 0.756842723989426\n",
            "Epoch 1900, Loss: 0.7330387207962512\n",
            "Epoch 2000, Loss: 0.7114378862921885\n",
            "Epoch 2100, Loss: 0.6918363072012531\n",
            "Epoch 2200, Loss: 0.6740489433479746\n",
            "Epoch 2300, Loss: 0.6579078808661655\n",
            "Epoch 2400, Loss: 0.6432607470811538\n",
            "Epoch 2500, Loss: 0.6299692721018676\n",
            "Epoch 2600, Loss: 0.6179079835441196\n",
            "Epoch 2700, Loss: 0.6069630220631711\n",
            "Epoch 2800, Loss: 0.597031066514152\n",
            "Epoch 2900, Loss: 0.5880183585937647\n",
            "Epoch 3000, Loss: 0.5798398177558279\n",
            "Epoch 3100, Loss: 0.5724182380454186\n",
            "Epoch 3200, Loss: 0.5656835592696554\n",
            "Epoch 3300, Loss: 0.5595722056249464\n",
            "Epoch 3400, Loss: 0.5540264855372845\n",
            "Epoch 3500, Loss: 0.5489940470500558\n",
            "Epoch 3600, Loss: 0.544427383618181\n",
            "Epoch 3700, Loss: 0.5402833856432534\n",
            "Epoch 3800, Loss: 0.53652293351614\n",
            "Epoch 3900, Loss: 0.5331105283253398\n",
            "Epoch 4000, Loss: 0.5300139567449589\n",
            "Epoch 4100, Loss: 0.5272039869388312\n",
            "Epoch 4200, Loss: 0.5246540926100912\n",
            "Epoch 4300, Loss: 0.5223402025912159\n",
            "Epoch 4400, Loss: 0.5202404736106446\n",
            "Epoch 4500, Loss: 0.5183350840908802\n",
            "Epoch 4600, Loss: 0.5166060470315171\n",
            "Epoch 4700, Loss: 0.5150370402107901\n",
            "Epoch 4800, Loss: 0.5136132521027469\n",
            "Epoch 4900, Loss: 0.5123212420554824\n",
            "Epoch 5000, Loss: 0.5111488134105162\n",
            "Epoch 5100, Loss: 0.5100848983655462\n",
            "Epoch 5200, Loss: 0.5091194534936779\n",
            "Epoch 5300, Loss: 0.5082433649328258\n",
            "Epoch 5400, Loss: 0.5074483623502649\n",
            "Epoch 5500, Loss: 0.5067269408701532\n",
            "Epoch 5600, Loss: 0.5060722902270196\n",
            "Epoch 5700, Loss: 0.5054782304764158\n",
            "Epoch 5800, Loss: 0.5049391536558415\n",
            "Epoch 5900, Loss: 0.5044499708452148\n",
            "Epoch 6000, Loss: 0.5040060641271379\n",
            "Epoch 6100, Loss: 0.5036032429934568\n",
            "Epoch 6200, Loss: 0.5032377047865941\n",
            "Epoch 6300, Loss: 0.5029059988022153\n",
            "Epoch 6400, Loss: 0.5026049937143557\n",
            "Epoch 6500, Loss: 0.5023318480155009\n",
            "Epoch 6600, Loss: 0.5020839831925727\n",
            "Epoch 6700, Loss: 0.5018590593855979\n",
            "Epoch 6800, Loss: 0.5016549532992788\n",
            "Epoch 6900, Loss: 0.5014697381589484\n",
            "Epoch 7000, Loss: 0.5013016655216923\n",
            "Epoch 7100, Loss: 0.5011491487709354\n",
            "Epoch 7200, Loss: 0.501010748138678\n",
            "Epoch 7300, Loss: 0.5008851571139924\n",
            "Epoch 7400, Loss: 0.5007711901094757\n",
            "Epoch 7500, Loss: 0.5006677712692282\n",
            "Epoch 7600, Loss: 0.5005739243127031\n",
            "Epoch 7700, Loss: 0.5004887633185562\n",
            "Epoch 7800, Loss: 0.50041148436149\n",
            "Epoch 7900, Loss: 0.5003413579231475\n",
            "Epoch 8000, Loss: 0.5002777220054111\n",
            "Epoch 8100, Loss: 0.5002199758810982\n",
            "Epoch 8200, Loss: 0.5001675744230574\n",
            "Epoch 8300, Loss: 0.5001200229581323\n",
            "Epoch 8400, Loss: 0.5000768725974163\n",
            "Epoch 8500, Loss: 0.5000377159987108\n",
            "Epoch 8600, Loss: 0.5000021835211897\n",
            "Epoch 8700, Loss: 0.4999699397359647\n",
            "Epoch 8800, Loss: 0.49994068025961635\n",
            "Epoch 8900, Loss: 0.49991412888079356\n",
            "Epoch 9000, Loss: 0.49989003495276185\n",
            "Epoch 9100, Loss: 0.4998681710272808\n",
            "Epoch 9200, Loss: 0.49984833070747864\n",
            "Epoch 9300, Loss: 0.49983032669945193\n",
            "Epoch 9400, Loss: 0.4998139890441997\n",
            "Epoch 9500, Loss: 0.49979916351319875\n",
            "Epoch 9600, Loss: 0.4997857101524767\n",
            "Epoch 9700, Loss: 0.49977350196143744\n",
            "Epoch 9800, Loss: 0.49976242369396745\n",
            "Epoch 9900, Loss: 0.4997523707705045\n",
            "[3.010091621268019, 3.954708103098868]\n"
          ]
        },
        {
          "output_type": "display_data",
          "data": {
            "text/plain": [
              "<Figure size 640x480 with 1 Axes>"
            ],
            "image/png": "[encoded data removed]"
          },
          "metadata": {}
        }
      ]
    }
  ]
}