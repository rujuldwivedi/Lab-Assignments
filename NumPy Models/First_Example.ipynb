{
  "cells": [
    {
      "cell_type": "markdown",
      "metadata": {
        "id": "view-in-github",
        "colab_type": "text"
      },
      "source": [
        "<a href=\"https://colab.research.google.com/github/rujuldwivedi/Projects/blob/main/First_Example.ipynb\" target=\"_parent\"><img src=\"https://colab.research.google.com/assets/colab-badge.svg\" alt=\"Open In Colab\"/></a>"
      ]
    },
    {
      "cell_type": "markdown",
      "metadata": {
        "id": "0iTZfjZr7M9O"
      },
      "source": [
        "## Estimating the bias of a coin"
      ]
    },
    {
      "cell_type": "code",
      "execution_count": null,
      "metadata": {
        "id": "-oCFuKab7M9S"
      },
      "outputs": [],
      "source": [
        "import numpy as np\n",
        "bias = 0.2"
      ]
    },
    {
      "cell_type": "markdown",
      "metadata": {
        "id": "yOyit_8R7M9U"
      },
      "source": [
        "#### Numpy is a library in python which provides several useful utilities"
      ]
    },
    {
      "cell_type": "code",
      "execution_count": null,
      "metadata": {
        "id": "HvlSPKWI7M9U",
        "colab": {
          "base_uri": "https://localhost:8080/"
        },
        "outputId": "0ac94796-ab08-4733-9a49-853299cfefb1"
      },
      "outputs": [
        {
          "output_type": "execute_result",
          "data": {
            "text/plain": [
              "array([0.27195836, 0.70778406, 0.16434681, 0.40813328, 0.34018228,\n",
              "       0.82777109, 0.83379744, 0.14244377, 0.51033044, 0.06600683,\n",
              "       0.62966515, 0.02915937, 0.87979007, 0.76939747, 0.82882099,\n",
              "       0.85584167, 0.34742993, 0.59777112, 0.38586562, 0.74814728,\n",
              "       0.97577054, 0.46697653, 0.59084334, 0.31208765, 0.45592918,\n",
              "       0.78005101, 0.54256779, 0.10673533, 0.059612  , 0.68193433,\n",
              "       0.24668027, 0.28248025, 0.38354527, 0.83691696, 0.14496474,\n",
              "       0.41285627, 0.04006565, 0.11460771, 0.39751947, 0.19893342,\n",
              "       0.89241815, 0.57469301, 0.98085062, 0.7048837 , 0.93902448,\n",
              "       0.58621752, 0.69690198, 0.20635544, 0.13719176, 0.22754241,\n",
              "       0.32417517, 0.12642875, 0.03041953, 0.92193165, 0.15230459,\n",
              "       0.07159874, 0.26579509, 0.47145073, 0.59788087, 0.00304197,\n",
              "       0.69010429, 0.500134  , 0.82420631, 0.32484292, 0.12675345,\n",
              "       0.70200654, 0.75185011, 0.3505464 , 0.7884748 , 0.68573329,\n",
              "       0.01689112, 0.23947903, 0.46329448, 0.73721167, 0.37883601,\n",
              "       0.30611826, 0.68091317, 0.71675189, 0.27309233, 0.56694618,\n",
              "       0.23664301, 0.29641692, 0.8835886 , 0.68654106, 0.79019484,\n",
              "       0.75281408, 0.4327556 , 0.02017514, 0.40300863, 0.28580633,\n",
              "       0.93071584, 0.81426674, 0.14696431, 0.87277315, 0.95491118,\n",
              "       0.82973721, 0.22453433, 0.40559563, 0.08448232, 0.53126093])"
            ]
          },
          "metadata": {},
          "execution_count": 3
        }
      ],
      "source": [
        "nsamples = 100\n",
        "tosses = [1 if x< bias else 0 for x in np.random.rand(nsamples)]\n",
        "\n",
        "samples = np.random.rand(nsamples)\n",
        "samples"
      ]
    },
    {
      "cell_type": "markdown",
      "metadata": {
        "id": "Sb1KpS9l7M9V"
      },
      "source": [
        "#### Count the number of heads"
      ]
    },
    {
      "cell_type": "code",
      "execution_count": null,
      "metadata": {
        "id": "4Zi_x-fM7M9V",
        "outputId": "b1d52edc-cf94-4e03-eb3e-dcca0d7e3d0b"
      },
      "outputs": [
        {
          "name": "stdout",
          "output_type": "stream",
          "text": [
            "21\n"
          ]
        }
      ],
      "source": [
        "print(sum(tosses))"
      ]
    }
  ],
  "metadata": {
    "kernelspec": {
      "display_name": "Python 3",
      "language": "python",
      "name": "python3"
    },
    "language_info": {
      "codemirror_mode": {
        "name": "ipython",
        "version": 3
      },
      "file_extension": ".py",
      "mimetype": "text/x-python",
      "name": "python",
      "nbconvert_exporter": "python",
      "pygments_lexer": "ipython3",
      "version": "3.7.4"
    },
    "colab": {
      "name": "First Example.ipynb",
      "provenance": [],
      "include_colab_link": true
    }
  },
  "nbformat": 4,
  "nbformat_minor": 0
}