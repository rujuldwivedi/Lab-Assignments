{
  "nbformat": 4,
  "nbformat_minor": 0,
  "metadata": {
    "kernelspec": {
      "display_name": "Python 3",
      "language": "python",
      "name": "python3"
    },
    "language_info": {
      "codemirror_mode": {
        "name": "ipython",
        "version": 3
      },
      "file_extension": ".py",
      "mimetype": "text/x-python",
      "name": "python",
      "nbconvert_exporter": "python",
      "pygments_lexer": "ipython3",
      "version": "3.7.4"
    },
    "colab": {
      "name": "Second Example.ipynb",
      "provenance": [],
      "collapsed_sections": [],
      "include_colab_link": true
    }
  },
  "cells": [
    {
      "cell_type": "markdown",
      "metadata": {
        "id": "view-in-github",
        "colab_type": "text"
      },
      "source": [
        "<a href=\"https://colab.research.google.com/github/rujuldwivedi/Projects/blob/main/Second_Example.ipynb\" target=\"_parent\"><img src=\"https://colab.research.google.com/assets/colab-badge.svg\" alt=\"Open In Colab\"/></a>"
      ]
    },
    {
      "cell_type": "markdown",
      "metadata": {
        "id": "5avlm0uLdiCc"
      },
      "source": [
        "## Create a function to toss coin"
      ]
    },
    {
      "cell_type": "code",
      "metadata": {
        "id": "T2hcqQT5diCh"
      },
      "source": [
        "import numpy as np\n",
        "def tossCoins(bias, nsamples):\n",
        "    tosses = [1 if x< bias else 0 for x in np.random.rand(nsamples)]\n",
        "    return sum(tosses)/nsamples"
      ],
      "execution_count": null,
      "outputs": []
    },
    {
      "cell_type": "markdown",
      "metadata": {
        "id": "E4HjXwYvdiCi"
      },
      "source": [
        "## Now toss multiple times"
      ]
    },
    {
      "cell_type": "code",
      "metadata": {
        "colab": {
          "base_uri": "https://localhost:8080/"
        },
        "id": "dQVtAHendiCj",
        "outputId": "f16113fa-4c3e-477f-85d9-32fdb8c674a4"
      },
      "source": [
        "arr = np.zeros(3)\n",
        "bias = 0.2\n",
        "nsamples = 10000\n",
        "\n",
        "arr[0]= tossCoins(bias, nsamples)\n",
        "arr[1]= tossCoins(bias, nsamples)\n",
        "arr[2]= tossCoins(bias, nsamples)\n",
        "\n",
        "print(arr)"
      ],
      "execution_count": null,
      "outputs": [
        {
          "output_type": "stream",
          "name": "stdout",
          "text": [
            "[0.2005 0.2001 0.1922]\n"
          ]
        }
      ]
    },
    {
      "cell_type": "markdown",
      "metadata": {
        "id": "ZgbrEi2_diCk"
      },
      "source": [
        "## Let us see the pattern we get, by running more than thrice"
      ]
    },
    {
      "cell_type": "code",
      "metadata": {
        "id": "-snh5XAPdiCl"
      },
      "source": [
        "nrepeat = 1000\n",
        "arr = np.zeros(nrepeat)\n",
        "for i in range(nrepeat):\n",
        "    arr[i] = tossCoins(bias, nsamples)   \n"
      ],
      "execution_count": null,
      "outputs": []
    },
    {
      "cell_type": "markdown",
      "metadata": {
        "id": "ZZ6fziKgdiCl"
      },
      "source": [
        "## Let us look at an histogram now"
      ]
    },
    {
      "cell_type": "code",
      "metadata": {
        "colab": {
          "base_uri": "https://localhost:8080/",
          "height": 265
        },
        "id": "sXRRQhsxdiCm",
        "outputId": "84c1c0ce-8298-41f4-e5b0-ec2e2e9adfea"
      },
      "source": [
        "import matplotlib.pyplot as plt\n",
        "plt.hist(arr, 100)\n",
        "plt.show()"
      ],
      "execution_count": null,
      "outputs": [
        {
          "output_type": "display_data",
          "data": {
            "image/png": "[encoded data removed]",
            "text/plain": [
              "<Figure size 432x288 with 1 Axes>"
            ]
          },
          "metadata": {
            "needs_background": "light"
          }
        }
      ]
    },
    {
      "cell_type": "code",
      "metadata": {
        "colab": {
          "base_uri": "https://localhost:8080/"
        },
        "id": "j6vHYNQEdiCn",
        "outputId": "64917dfe-bcdf-43f5-bee1-29923c1d5793"
      },
      "source": [
        "a = []\n",
        "for x in range(100):\n",
        "  a.append(x)\n",
        "print(a)\n",
        "\n",
        "b= [x*x for x in range(100)] #list compre...\n",
        "print(b)\n"
      ],
      "execution_count": null,
      "outputs": [
        {
          "output_type": "stream",
          "name": "stdout",
          "text": [
            "[0, 1, 2, 3, 4, 5, 6, 7, 8, 9, 10, 11, 12, 13, 14, 15, 16, 17, 18, 19, 20, 21, 22, 23, 24, 25, 26, 27, 28, 29, 30, 31, 32, 33, 34, 35, 36, 37, 38, 39, 40, 41, 42, 43, 44, 45, 46, 47, 48, 49, 50, 51, 52, 53, 54, 55, 56, 57, 58, 59, 60, 61, 62, 63, 64, 65, 66, 67, 68, 69, 70, 71, 72, 73, 74, 75, 76, 77, 78, 79, 80, 81, 82, 83, 84, 85, 86, 87, 88, 89, 90, 91, 92, 93, 94, 95, 96, 97, 98, 99]\n",
            "[0, 1, 4, 9, 16, 25, 36, 49, 64, 81, 100, 121, 144, 169, 196, 225, 256, 289, 324, 361, 400, 441, 484, 529, 576, 625, 676, 729, 784, 841, 900, 961, 1024, 1089, 1156, 1225, 1296, 1369, 1444, 1521, 1600, 1681, 1764, 1849, 1936, 2025, 2116, 2209, 2304, 2401, 2500, 2601, 2704, 2809, 2916, 3025, 3136, 3249, 3364, 3481, 3600, 3721, 3844, 3969, 4096, 4225, 4356, 4489, 4624, 4761, 4900, 5041, 5184, 5329, 5476, 5625, 5776, 5929, 6084, 6241, 6400, 6561, 6724, 6889, 7056, 7225, 7396, 7569, 7744, 7921, 8100, 8281, 8464, 8649, 8836, 9025, 9216, 9409, 9604, 9801]\n"
          ]
        }
      ]
    }
  ]
}